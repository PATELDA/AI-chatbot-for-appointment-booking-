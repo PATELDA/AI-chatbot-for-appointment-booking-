{
 "cells": [
  {
   "cell_type": "code",
   "execution_count": null,
   "metadata": {},
   "outputs": [],
   "source": [
    "import pandas as pd\n",
    "import numpy as np\n",
    "from sklearn.preprocessing import RobustScaler\n",
    "from sklearn.model_selection import train_test_split\n",
    "import os"
   ]
  },
  {
   "cell_type": "code",
   "execution_count": null,
   "metadata": {},
   "outputs": [],
   "source": [
    "def create_sliding_windows(data, window_size=14):\n",
    "    X, y = [], []\n",
    "    for i in range(len(data) - window_size):\n",
    "        X.append(data[i:(i + window_size)])\n",
    "        y.append(data[i + window_size, 0])  # First column is COUNT_OF_APPOINTMENTS\n",
    "    return np.array(X), np.array(y)"
   ]
  },
  {
   "cell_type": "code",
   "execution_count": null,
   "metadata": {},
   "outputs": [
    {
     "name": "stdout",
     "output_type": "stream",
     "text": [
      "First CSV columns: ['APPOINTMENT_MONTH_START_DATE', 'GP_CODE', 'GP_NAME', 'SUPPLIER', 'PCN_CODE', 'PCN_NAME', 'SUB_ICB_LOCATION_CODE', 'SUB_ICB_LOCATION_NAME', 'HCP_TYPE', 'APPT_MODE', 'NATIONAL_CATEGORY', 'TIME_BETWEEN_BOOK_AND_APPT', 'COUNT_OF_APPOINTMENTS', 'APPT_STATUS']\n"
     ]
    }
   ],
   "source": [
    "# Load and merge datasets with corrected path\n",
    "current_dir = os.path.dirname(__file__)\n",
    "project_root = os.path.dirname(os.path.dirname(current_dir))\n",
    "data_dir = os.path.join(project_root, 'Practice_Level_Crosstab_Jan_24')\n",
    "files = [f for f in os.listdir(data_dir) if f.endswith('.csv')]\n",
    "dfs = [pd.read_csv(os.path.join(data_dir, f)) for f in files]\n",
    "# Debug column names and find correct date column\n",
    "print(\"First CSV columns:\", dfs[0].columns.tolist())\n",
    "merged = pd.concat(dfs)"
   ]
  },
  {
   "cell_type": "code",
   "execution_count": null,
   "metadata": {},
   "outputs": [],
   "source": [
    "# Use verified column names from dataset\n",
    "merged = merged.sort_values('APPOINTMENT_MONTH_START_DATE')"
   ]
  },
  {
   "cell_type": "code",
   "execution_count": null,
   "metadata": {},
   "outputs": [],
   "source": [
    "# Convert date with correct format\n",
    "merged['Date'] = pd.to_datetime(merged['APPOINTMENT_MONTH_START_DATE'], format='%d%b%Y')"
   ]
  },
  {
   "cell_type": "code",
   "execution_count": null,
   "metadata": {},
   "outputs": [],
   "source": [
    "# Feature engineering\n",
    "merged['day_of_week'] = merged['Date'].dt.dayofweek\n",
    "merged['is_weekend'] = merged['day_of_week'].isin([5,6]).astype(int)"
   ]
  },
  {
   "cell_type": "code",
   "execution_count": null,
   "metadata": {},
   "outputs": [],
   "source": [
    "# Select features and target based on actual columns\n",
    "features = ['COUNT_OF_APPOINTMENTS', 'day_of_week', 'is_weekend']\n",
    "target = 'COUNT_OF_APPOINTMENTS'\n",
    "data = merged[features].values"
   ]
  },
  {
   "cell_type": "code",
   "execution_count": null,
   "metadata": {},
   "outputs": [],
   "source": [
    "# Normalize\n",
    "scaler = RobustScaler()\n",
    "scaled_data = scaler.fit_transform(data)"
   ]
  },
  {
   "cell_type": "code",
   "execution_count": null,
   "metadata": {},
   "outputs": [],
   "source": [
    "# Create sequences\n",
    "X, y = create_sliding_windows(scaled_data)\n",
    "X_train, X_test, y_train, y_test = train_test_split(X, y, test_size=0.2, shuffle=False)"
   ]
  },
  {
   "cell_type": "code",
   "execution_count": null,
   "metadata": {},
   "outputs": [],
   "source": [
    "# Save processed data\n",
    "output_dir = os.path.join(current_dir, '../../data')\n",
    "os.makedirs(output_dir, exist_ok=True)\n",
    "np.save(os.path.join(output_dir, 'X_train.npy'), X_train)\n",
    "np.save(os.path.join(output_dir, 'X_test.npy'), X_test)\n",
    "np.save(os.path.join(output_dir, 'y_train.npy'), y_train)\n",
    "np.save(os.path.join(output_dir, 'y_test.npy'), y_test)"
   ]
  }
 ],
 "metadata": {
  "language_info": {
   "codemirror_mode": {
    "name": "ipython",
    "version": 3
   },
   "file_extension": ".py",
   "mimetype": "text/x-python",
   "name": "python",
   "nbconvert_exporter": "python",
   "pygments_lexer": "ipython3",
   "version": 3
  }
 },
 "nbformat": 4,
 "nbformat_minor": 2
}
