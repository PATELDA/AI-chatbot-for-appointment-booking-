{
 "cells": [
  {
   "cell_type": "code",
   "execution_count": null,
   "metadata": {
    "vscode": {
     "languageId": "plaintext"
    }
   },
   "outputs": [],
   "source": [
    "import numpy as np\n",
    "import tensorflow as tf\n",
    "from tensorflow.keras.callbacks import EarlyStopping, ModelCheckpoint\n",
    "from model import build_lstm_model\n",
    "import os"
   ]
  },
  {
   "cell_type": "code",
   "execution_count": null,
   "metadata": {
    "vscode": {
     "languageId": "plaintext"
    }
   },
   "outputs": [],
   "source": [
    "# Configure paths\n",
    "current_dir = os.path.dirname(__file__)\n",
    "data_dir = os.path.join(current_dir, '../../data')"
   ]
  },
  {
   "cell_type": "code",
   "execution_count": null,
   "metadata": {
    "vscode": {
     "languageId": "plaintext"
    }
   },
   "outputs": [],
   "source": [
    "# Load processed data\n",
    "X_train = np.load(os.path.join(data_dir, 'X_train.npy'))\n",
    "y_train = np.load(os.path.join(data_dir, 'y_train.npy'))\n",
    "X_test = np.load(os.path.join(data_dir, 'X_test.npy'))\n",
    "y_test = np.load(os.path.join(data_dir, 'y_test.npy'))"
   ]
  },
  {
   "cell_type": "code",
   "execution_count": null,
   "metadata": {
    "vscode": {
     "languageId": "plaintext"
    }
   },
   "outputs": [],
   "source": [
    "# Build model\n",
    "model = build_lstm_model((X_train.shape[1], X_train.shape[2]))\n",
    "model.compile(optimizer='adam', \n",
    "              loss=tf.keras.losses.Huber(),\n",
    "              metrics=['mae'])"
   ]
  },
  {
   "cell_type": "code",
   "execution_count": null,
   "metadata": {
    "vscode": {
     "languageId": "plaintext"
    }
   },
   "outputs": [],
   "source": [
    "# Callbacks\n",
    "model_dir = os.path.join(current_dir, '../../models')\n",
    "os.makedirs(model_dir, exist_ok=True)\n",
    "callbacks = [\n",
    "    EarlyStopping(patience=10, restore_best_weights=True),\n",
    "    ModelCheckpoint(os.path.join(model_dir, 'best_model.h5'), save_best_only=True)\n",
    "]"
   ]
  },
  {
   "cell_type": "code",
   "execution_count": null,
   "metadata": {
    "vscode": {
     "languageId": "plaintext"
    }
   },
   "outputs": [],
   "source": [
    "# Train\n",
    "history = model.fit(X_train, y_train,\n",
    "                   epochs=100,\n",
    "                   batch_size=32,\n",
    "                   validation_split=0.1,\n",
    "                   callbacks=callbacks)"
   ]
  },
  {
   "cell_type": "code",
   "execution_count": null,
   "metadata": {
    "vscode": {
     "languageId": "plaintext"
    }
   },
   "outputs": [],
   "source": [
    "# Evaluate\n",
    "test_loss, test_mae = model.evaluate(X_test, y_test)\n",
    "print(f\"Test MAE: {test_mae:.2f}\")"
   ]
  }
 ],
 "metadata": {
  "language_info": {
   "name": "python"
  }
 },
 "nbformat": 4,
 "nbformat_minor": 2
}
